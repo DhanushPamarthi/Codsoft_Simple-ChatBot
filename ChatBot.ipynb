{
 "cells": [
  {
   "cell_type": "code",
   "execution_count": 1,
   "id": "b0be3ad5",
   "metadata": {},
   "outputs": [
    {
     "name": "stdout",
     "output_type": "stream",
     "text": [
      "Chatbot: Hi! I'm your rule-based chatbot. Type 'exit' to end the conversation.\n",
      "You: hello\n",
      "Chatbot: Hello there! How can I assist you today?\n",
      "You: what's weather update?\n",
      "Chatbot: The weather is sunny and warm today.\n",
      "You: how are you\n",
      "Chatbot: I'm just a chatbot, but I'm here to help!\n",
      "You: tell me a joke\n",
      "Chatbot: Why don't scientists trust atoms? Because they make up everything!\n",
      "You: exit\n",
      "Chatbot: Goodbye!\n"
     ]
    }
   ],
   "source": [
    "import re\n",
    "\n",
    "def chatbot_response(user_input):\n",
    "    user_input = user_input.lower()\n",
    "    \n",
    "    # Define rules and responses\n",
    "    if re.search(r'\\b(hi|hello|hey)\\b', user_input):\n",
    "        response = \"Hello there! How can I assist you today?\"\n",
    "    elif re.search(r'\\b(weather|forecast)\\b', user_input):\n",
    "        response = \"The weather is sunny and warm today.\"\n",
    "    elif re.search(r'\\b(how are you|how\\'s it going|what\\'s up|name)\\b', user_input):\n",
    "        response = \"I'm just a chatbot, but I'm here to help!\"\n",
    "    elif re.search(r'\\b(tell me a joke|funny)\\b', user_input):\n",
    "        response = \"Why don't scientists trust atoms? Because they make up everything!\"\n",
    "    else:\n",
    "        response = \"I'm sorry, I didn't understand that.\"\n",
    "    \n",
    "    return response\n",
    "\n",
    "# Chat loop\n",
    "print(\"Chatbot: Hi! I'm your rule-based chatbot. Type 'exit' to end the conversation.\")\n",
    "while True:\n",
    "    user_input = input(\"You: \")\n",
    "    if user_input.lower() == 'exit':\n",
    "        print(\"Chatbot: Goodbye!\")\n",
    "        break\n",
    "    response = chatbot_response(user_input)\n",
    "    print(\"Chatbot:\", response)\n",
    "\n"
   ]
  },
  {
   "cell_type": "code",
   "execution_count": null,
   "id": "aec300c4",
   "metadata": {},
   "outputs": [],
   "source": []
  },
  {
   "cell_type": "code",
   "execution_count": null,
   "id": "717e4e74",
   "metadata": {},
   "outputs": [],
   "source": []
  },
  {
   "cell_type": "code",
   "execution_count": null,
   "id": "ed3f24f3",
   "metadata": {},
   "outputs": [],
   "source": []
  }
 ],
 "metadata": {
  "kernelspec": {
   "display_name": "Python 3 (ipykernel)",
   "language": "python",
   "name": "python3"
  },
  "language_info": {
   "codemirror_mode": {
    "name": "ipython",
    "version": 3
   },
   "file_extension": ".py",
   "mimetype": "text/x-python",
   "name": "python",
   "nbconvert_exporter": "python",
   "pygments_lexer": "ipython3",
   "version": "3.9.13"
  }
 },
 "nbformat": 4,
 "nbformat_minor": 5
}
